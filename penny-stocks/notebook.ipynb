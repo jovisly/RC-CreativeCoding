{
 "cells": [
  {
   "cell_type": "code",
   "execution_count": 1,
   "id": "814568f7",
   "metadata": {},
   "outputs": [
    {
     "data": {
      "text/html": [
       "<div>\n",
       "<style scoped>\n",
       "    .dataframe tbody tr th:only-of-type {\n",
       "        vertical-align: middle;\n",
       "    }\n",
       "\n",
       "    .dataframe tbody tr th {\n",
       "        vertical-align: top;\n",
       "    }\n",
       "\n",
       "    .dataframe thead th {\n",
       "        text-align: right;\n",
       "    }\n",
       "</style>\n",
       "<table border=\"1\" class=\"dataframe\">\n",
       "  <thead>\n",
       "    <tr style=\"text-align: right;\">\n",
       "      <th></th>\n",
       "      <th>Date</th>\n",
       "      <th>Open</th>\n",
       "      <th>High</th>\n",
       "      <th>Low</th>\n",
       "      <th>Close</th>\n",
       "      <th>Adj Close</th>\n",
       "      <th>Volume</th>\n",
       "    </tr>\n",
       "  </thead>\n",
       "  <tbody>\n",
       "    <tr>\n",
       "      <th>0</th>\n",
       "      <td>1980-12-12</td>\n",
       "      <td>0.513393</td>\n",
       "      <td>0.515625</td>\n",
       "      <td>0.513393</td>\n",
       "      <td>0.513393</td>\n",
       "      <td>0.406782</td>\n",
       "      <td>117258400</td>\n",
       "    </tr>\n",
       "    <tr>\n",
       "      <th>1</th>\n",
       "      <td>1980-12-15</td>\n",
       "      <td>0.488839</td>\n",
       "      <td>0.488839</td>\n",
       "      <td>0.486607</td>\n",
       "      <td>0.486607</td>\n",
       "      <td>0.385558</td>\n",
       "      <td>43971200</td>\n",
       "    </tr>\n",
       "    <tr>\n",
       "      <th>2</th>\n",
       "      <td>1980-12-16</td>\n",
       "      <td>0.453125</td>\n",
       "      <td>0.453125</td>\n",
       "      <td>0.450893</td>\n",
       "      <td>0.450893</td>\n",
       "      <td>0.357260</td>\n",
       "      <td>26432000</td>\n",
       "    </tr>\n",
       "    <tr>\n",
       "      <th>3</th>\n",
       "      <td>1980-12-17</td>\n",
       "      <td>0.462054</td>\n",
       "      <td>0.464286</td>\n",
       "      <td>0.462054</td>\n",
       "      <td>0.462054</td>\n",
       "      <td>0.366103</td>\n",
       "      <td>21610400</td>\n",
       "    </tr>\n",
       "    <tr>\n",
       "      <th>4</th>\n",
       "      <td>1980-12-18</td>\n",
       "      <td>0.475446</td>\n",
       "      <td>0.477679</td>\n",
       "      <td>0.475446</td>\n",
       "      <td>0.475446</td>\n",
       "      <td>0.376715</td>\n",
       "      <td>18362400</td>\n",
       "    </tr>\n",
       "  </tbody>\n",
       "</table>\n",
       "</div>"
      ],
      "text/plain": [
       "         Date      Open      High       Low     Close  Adj Close     Volume\n",
       "0  1980-12-12  0.513393  0.515625  0.513393  0.513393   0.406782  117258400\n",
       "1  1980-12-15  0.488839  0.488839  0.486607  0.486607   0.385558   43971200\n",
       "2  1980-12-16  0.453125  0.453125  0.450893  0.450893   0.357260   26432000\n",
       "3  1980-12-17  0.462054  0.464286  0.462054  0.462054   0.366103   21610400\n",
       "4  1980-12-18  0.475446  0.477679  0.475446  0.475446   0.376715   18362400"
      ]
     },
     "execution_count": 1,
     "metadata": {},
     "output_type": "execute_result"
    }
   ],
   "source": [
    "import pandas as pd\n",
    "\n",
    "df = pd.read_csv(\"data/stocks/AAPL.csv\")\n",
    "df.head()"
   ]
  },
  {
   "cell_type": "code",
   "execution_count": 2,
   "id": "ef896600",
   "metadata": {},
   "outputs": [
    {
     "data": {
      "text/html": [
       "<div>\n",
       "<style scoped>\n",
       "    .dataframe tbody tr th:only-of-type {\n",
       "        vertical-align: middle;\n",
       "    }\n",
       "\n",
       "    .dataframe tbody tr th {\n",
       "        vertical-align: top;\n",
       "    }\n",
       "\n",
       "    .dataframe thead th {\n",
       "        text-align: right;\n",
       "    }\n",
       "</style>\n",
       "<table border=\"1\" class=\"dataframe\">\n",
       "  <thead>\n",
       "    <tr style=\"text-align: right;\">\n",
       "      <th></th>\n",
       "      <th>Date</th>\n",
       "      <th>Open</th>\n",
       "      <th>High</th>\n",
       "      <th>Low</th>\n",
       "      <th>Close</th>\n",
       "      <th>Adj Close</th>\n",
       "      <th>Volume</th>\n",
       "    </tr>\n",
       "  </thead>\n",
       "  <tbody>\n",
       "    <tr>\n",
       "      <th>9904</th>\n",
       "      <td>2020-03-26</td>\n",
       "      <td>246.520004</td>\n",
       "      <td>258.679993</td>\n",
       "      <td>246.360001</td>\n",
       "      <td>258.440002</td>\n",
       "      <td>258.440002</td>\n",
       "      <td>63021800</td>\n",
       "    </tr>\n",
       "    <tr>\n",
       "      <th>9905</th>\n",
       "      <td>2020-03-27</td>\n",
       "      <td>252.750000</td>\n",
       "      <td>255.869995</td>\n",
       "      <td>247.050003</td>\n",
       "      <td>247.740005</td>\n",
       "      <td>247.740005</td>\n",
       "      <td>51054200</td>\n",
       "    </tr>\n",
       "    <tr>\n",
       "      <th>9906</th>\n",
       "      <td>2020-03-30</td>\n",
       "      <td>250.740005</td>\n",
       "      <td>255.520004</td>\n",
       "      <td>249.399994</td>\n",
       "      <td>254.809998</td>\n",
       "      <td>254.809998</td>\n",
       "      <td>41994100</td>\n",
       "    </tr>\n",
       "    <tr>\n",
       "      <th>9907</th>\n",
       "      <td>2020-03-31</td>\n",
       "      <td>255.600006</td>\n",
       "      <td>262.489990</td>\n",
       "      <td>252.000000</td>\n",
       "      <td>254.289993</td>\n",
       "      <td>254.289993</td>\n",
       "      <td>49250500</td>\n",
       "    </tr>\n",
       "    <tr>\n",
       "      <th>9908</th>\n",
       "      <td>2020-04-01</td>\n",
       "      <td>246.500000</td>\n",
       "      <td>248.720001</td>\n",
       "      <td>239.130005</td>\n",
       "      <td>240.910004</td>\n",
       "      <td>240.910004</td>\n",
       "      <td>43956200</td>\n",
       "    </tr>\n",
       "  </tbody>\n",
       "</table>\n",
       "</div>"
      ],
      "text/plain": [
       "            Date        Open        High         Low       Close   Adj Close  \\\n",
       "9904  2020-03-26  246.520004  258.679993  246.360001  258.440002  258.440002   \n",
       "9905  2020-03-27  252.750000  255.869995  247.050003  247.740005  247.740005   \n",
       "9906  2020-03-30  250.740005  255.520004  249.399994  254.809998  254.809998   \n",
       "9907  2020-03-31  255.600006  262.489990  252.000000  254.289993  254.289993   \n",
       "9908  2020-04-01  246.500000  248.720001  239.130005  240.910004  240.910004   \n",
       "\n",
       "        Volume  \n",
       "9904  63021800  \n",
       "9905  51054200  \n",
       "9906  41994100  \n",
       "9907  49250500  \n",
       "9908  43956200  "
      ]
     },
     "execution_count": 2,
     "metadata": {},
     "output_type": "execute_result"
    }
   ],
   "source": [
    "df.tail()"
   ]
  },
  {
   "cell_type": "code",
   "execution_count": 10,
   "id": "6b942dac",
   "metadata": {},
   "outputs": [
    {
     "data": {
      "text/html": [
       "<div>\n",
       "<style scoped>\n",
       "    .dataframe tbody tr th:only-of-type {\n",
       "        vertical-align: middle;\n",
       "    }\n",
       "\n",
       "    .dataframe tbody tr th {\n",
       "        vertical-align: top;\n",
       "    }\n",
       "\n",
       "    .dataframe thead th {\n",
       "        text-align: right;\n",
       "    }\n",
       "</style>\n",
       "<table border=\"1\" class=\"dataframe\">\n",
       "  <thead>\n",
       "    <tr style=\"text-align: right;\">\n",
       "      <th></th>\n",
       "      <th>Date</th>\n",
       "      <th>Open</th>\n",
       "      <th>High</th>\n",
       "      <th>Low</th>\n",
       "      <th>Close</th>\n",
       "      <th>Adj Close</th>\n",
       "      <th>Volume</th>\n",
       "    </tr>\n",
       "  </thead>\n",
       "  <tbody>\n",
       "    <tr>\n",
       "      <th>1</th>\n",
       "      <td>1980-12-15</td>\n",
       "      <td>0.488839</td>\n",
       "      <td>0.488839</td>\n",
       "      <td>0.486607</td>\n",
       "      <td>0.486607</td>\n",
       "      <td>0.385558</td>\n",
       "      <td>43971200</td>\n",
       "    </tr>\n",
       "    <tr>\n",
       "      <th>2</th>\n",
       "      <td>1980-12-16</td>\n",
       "      <td>0.453125</td>\n",
       "      <td>0.453125</td>\n",
       "      <td>0.450893</td>\n",
       "      <td>0.450893</td>\n",
       "      <td>0.357260</td>\n",
       "      <td>26432000</td>\n",
       "    </tr>\n",
       "    <tr>\n",
       "      <th>3</th>\n",
       "      <td>1980-12-17</td>\n",
       "      <td>0.462054</td>\n",
       "      <td>0.464286</td>\n",
       "      <td>0.462054</td>\n",
       "      <td>0.462054</td>\n",
       "      <td>0.366103</td>\n",
       "      <td>21610400</td>\n",
       "    </tr>\n",
       "    <tr>\n",
       "      <th>4</th>\n",
       "      <td>1980-12-18</td>\n",
       "      <td>0.475446</td>\n",
       "      <td>0.477679</td>\n",
       "      <td>0.475446</td>\n",
       "      <td>0.475446</td>\n",
       "      <td>0.376715</td>\n",
       "      <td>18362400</td>\n",
       "    </tr>\n",
       "    <tr>\n",
       "      <th>34</th>\n",
       "      <td>1981-02-02</td>\n",
       "      <td>0.477679</td>\n",
       "      <td>0.477679</td>\n",
       "      <td>0.475446</td>\n",
       "      <td>0.475446</td>\n",
       "      <td>0.376715</td>\n",
       "      <td>5941600</td>\n",
       "    </tr>\n",
       "    <tr>\n",
       "      <th>...</th>\n",
       "      <td>...</td>\n",
       "      <td>...</td>\n",
       "      <td>...</td>\n",
       "      <td>...</td>\n",
       "      <td>...</td>\n",
       "      <td>...</td>\n",
       "      <td>...</td>\n",
       "    </tr>\n",
       "    <tr>\n",
       "      <th>4306</th>\n",
       "      <td>1997-12-24</td>\n",
       "      <td>0.464286</td>\n",
       "      <td>0.473214</td>\n",
       "      <td>0.464286</td>\n",
       "      <td>0.468750</td>\n",
       "      <td>0.406894</td>\n",
       "      <td>24458000</td>\n",
       "    </tr>\n",
       "    <tr>\n",
       "      <th>4307</th>\n",
       "      <td>1997-12-26</td>\n",
       "      <td>0.466518</td>\n",
       "      <td>0.477679</td>\n",
       "      <td>0.464286</td>\n",
       "      <td>0.475446</td>\n",
       "      <td>0.412707</td>\n",
       "      <td>26969600</td>\n",
       "    </tr>\n",
       "    <tr>\n",
       "      <th>4308</th>\n",
       "      <td>1997-12-29</td>\n",
       "      <td>0.475446</td>\n",
       "      <td>0.479911</td>\n",
       "      <td>0.459821</td>\n",
       "      <td>0.468750</td>\n",
       "      <td>0.406894</td>\n",
       "      <td>69549200</td>\n",
       "    </tr>\n",
       "    <tr>\n",
       "      <th>4309</th>\n",
       "      <td>1997-12-30</td>\n",
       "      <td>0.464286</td>\n",
       "      <td>0.479911</td>\n",
       "      <td>0.455357</td>\n",
       "      <td>0.470982</td>\n",
       "      <td>0.408832</td>\n",
       "      <td>85626800</td>\n",
       "    </tr>\n",
       "    <tr>\n",
       "      <th>4310</th>\n",
       "      <td>1997-12-31</td>\n",
       "      <td>0.468750</td>\n",
       "      <td>0.486607</td>\n",
       "      <td>0.462054</td>\n",
       "      <td>0.468750</td>\n",
       "      <td>0.406894</td>\n",
       "      <td>101589600</td>\n",
       "    </tr>\n",
       "  </tbody>\n",
       "</table>\n",
       "<p>974 rows × 7 columns</p>\n",
       "</div>"
      ],
      "text/plain": [
       "            Date      Open      High       Low     Close  Adj Close     Volume\n",
       "1     1980-12-15  0.488839  0.488839  0.486607  0.486607   0.385558   43971200\n",
       "2     1980-12-16  0.453125  0.453125  0.450893  0.450893   0.357260   26432000\n",
       "3     1980-12-17  0.462054  0.464286  0.462054  0.462054   0.366103   21610400\n",
       "4     1980-12-18  0.475446  0.477679  0.475446  0.475446   0.376715   18362400\n",
       "34    1981-02-02  0.477679  0.477679  0.475446  0.475446   0.376715    5941600\n",
       "...          ...       ...       ...       ...       ...        ...        ...\n",
       "4306  1997-12-24  0.464286  0.473214  0.464286  0.468750   0.406894   24458000\n",
       "4307  1997-12-26  0.466518  0.477679  0.464286  0.475446   0.412707   26969600\n",
       "4308  1997-12-29  0.475446  0.479911  0.459821  0.468750   0.406894   69549200\n",
       "4309  1997-12-30  0.464286  0.479911  0.455357  0.470982   0.408832   85626800\n",
       "4310  1997-12-31  0.468750  0.486607  0.462054  0.468750   0.406894  101589600\n",
       "\n",
       "[974 rows x 7 columns]"
      ]
     },
     "execution_count": 10,
     "metadata": {},
     "output_type": "execute_result"
    }
   ],
   "source": [
    "df.loc[df[\"Close\"] <= 0.5]"
   ]
  },
  {
   "cell_type": "code",
   "execution_count": 12,
   "id": "8b249299",
   "metadata": {},
   "outputs": [
    {
     "data": {
      "text/plain": [
       "240.91000366210935"
      ]
     },
     "execution_count": 12,
     "metadata": {},
     "output_type": "execute_result"
    }
   ],
   "source": [
    "# Penny stock definition: stock prices less than 1 dollar.\n",
    "\n",
    "df.iloc[-1][\"Close\"]"
   ]
  },
  {
   "cell_type": "code",
   "execution_count": 13,
   "id": "f5334b5c",
   "metadata": {},
   "outputs": [
    {
     "name": "stdout",
     "output_type": "stream",
     "text": [
      "0.1964285671710968\n"
     ]
    }
   ],
   "source": [
    "# We will do something like getting the min value of a stock that is less than one dollar. \n",
    "# Then compare with how much it is now.\n",
    "\n",
    "minValue = min(list(df[\"Close\"]))\n",
    "print(minValue)"
   ]
  },
  {
   "cell_type": "code",
   "execution_count": 14,
   "id": "31b2870f",
   "metadata": {},
   "outputs": [
    {
     "data": {
      "text/html": [
       "<div>\n",
       "<style scoped>\n",
       "    .dataframe tbody tr th:only-of-type {\n",
       "        vertical-align: middle;\n",
       "    }\n",
       "\n",
       "    .dataframe tbody tr th {\n",
       "        vertical-align: top;\n",
       "    }\n",
       "\n",
       "    .dataframe thead th {\n",
       "        text-align: right;\n",
       "    }\n",
       "</style>\n",
       "<table border=\"1\" class=\"dataframe\">\n",
       "  <thead>\n",
       "    <tr style=\"text-align: right;\">\n",
       "      <th></th>\n",
       "      <th>Date</th>\n",
       "      <th>Open</th>\n",
       "      <th>High</th>\n",
       "      <th>Low</th>\n",
       "      <th>Close</th>\n",
       "      <th>Adj Close</th>\n",
       "      <th>Volume</th>\n",
       "    </tr>\n",
       "  </thead>\n",
       "  <tbody>\n",
       "    <tr>\n",
       "      <th>394</th>\n",
       "      <td>1982-07-08</td>\n",
       "      <td>0.198661</td>\n",
       "      <td>0.198661</td>\n",
       "      <td>0.196429</td>\n",
       "      <td>0.196429</td>\n",
       "      <td>0.155638</td>\n",
       "      <td>41081600</td>\n",
       "    </tr>\n",
       "  </tbody>\n",
       "</table>\n",
       "</div>"
      ],
      "text/plain": [
       "           Date      Open      High       Low     Close  Adj Close    Volume\n",
       "394  1982-07-08  0.198661  0.198661  0.196429  0.196429   0.155638  41081600"
      ]
     },
     "execution_count": 14,
     "metadata": {},
     "output_type": "execute_result"
    }
   ],
   "source": [
    "df.loc[df[\"Close\"] == minValue]"
   ]
  },
  {
   "cell_type": "code",
   "execution_count": 36,
   "id": "8d5fd871",
   "metadata": {},
   "outputs": [
    {
     "name": "stdout",
     "output_type": "stream",
     "text": [
      "0.1964285671710968\n",
      "240.91000366210935\n"
     ]
    }
   ],
   "source": [
    "# Compared to today.\n",
    "before = df.loc[df[\"Close\"] == minValue][\"Close\"].item()\n",
    "later = df.iloc[-1][\"Close\"].item()\n",
    "\n",
    "print(before)\n",
    "print(later)"
   ]
  },
  {
   "cell_type": "code",
   "execution_count": 34,
   "id": "e1187866",
   "metadata": {},
   "outputs": [
    {
     "name": "stdout",
     "output_type": "stream",
     "text": [
      "394    1982-07-08\n",
      "Name: Date, dtype: object\n",
      "2020-04-01\n"
     ]
    }
   ],
   "source": [
    "before = df.loc[df[\"Close\"] == minValue][\"Date\"]\n",
    "later = df.iloc[-1][\"Date\"]\n",
    "print(before)\n",
    "print(later)"
   ]
  },
  {
   "cell_type": "code",
   "execution_count": 32,
   "id": "1fc1ea8d",
   "metadata": {},
   "outputs": [
    {
     "data": {
      "text/plain": [
       "12.264509543169835"
      ]
     },
     "execution_count": 32,
     "metadata": {},
     "output_type": "execute_result"
    }
   ],
   "source": [
    "0.01 * later / before"
   ]
  },
  {
   "cell_type": "code",
   "execution_count": 37,
   "id": "e0527902",
   "metadata": {},
   "outputs": [
    {
     "data": {
      "text/plain": [
       "1226.4509543169834"
      ]
     },
     "execution_count": 37,
     "metadata": {},
     "output_type": "execute_result"
    }
   ],
   "source": [
    "later / before"
   ]
  },
  {
   "cell_type": "code",
   "execution_count": null,
   "id": "a5c5fecf",
   "metadata": {},
   "outputs": [],
   "source": [
    "# How do we want to analyze it?  Maybe turn it into a JSON?\n",
    "# For the front-end, how would it digest it?\n",
    "\n",
    "\"\"\"\n",
    "const data = {\n",
    "    \"Apple\": {start: \"1982-07-08\", end: \"2020-04-01\", multiplier: 1226.45},\n",
    "    ...\n",
    "    ...\n",
    "}\n",
    "\"\"\""
   ]
  },
  {
   "cell_type": "code",
   "execution_count": 96,
   "id": "c37159a3",
   "metadata": {},
   "outputs": [
    {
     "name": "stdout",
     "output_type": "stream",
     "text": [
      "['RIV.csv', 'ANTE.csv', 'CSCO.csv', 'PRI.csv', 'NZF.csv', 'HLNE.csv', 'UNT.csv', 'HUBS.csv', 'GPL.csv', 'SBGI.csv']\n"
     ]
    }
   ],
   "source": [
    "import os\n",
    "import pandas as pd\n",
    "\n",
    "\n",
    "files = os.listdir(\"data/stocks/\")\n",
    "print(files[:10])\n"
   ]
  },
  {
   "cell_type": "code",
   "execution_count": 97,
   "id": "c19eaab0",
   "metadata": {},
   "outputs": [
    {
     "name": "stdout",
     "output_type": "stream",
     "text": [
      "['A.csv', 'AA.csv', 'AACG.csv', 'AAL.csv', 'AAMC.csv', 'AAME.csv', 'AAN.csv', 'AAOI.csv', 'AAON.csv', 'AAP.csv', 'AAPL.csv', 'AAT.csv', 'AAU.csv', 'AAWW.csv', 'AAXN.csv', 'AB.csv', 'ABB.csv', 'ABBV.csv', 'ABC.csv', 'ABCB.csv']\n"
     ]
    }
   ],
   "source": [
    "files.sort()\n",
    "print(files[:20])"
   ]
  },
  {
   "cell_type": "code",
   "execution_count": 102,
   "id": "cf7083ec",
   "metadata": {},
   "outputs": [
    {
     "name": "stdout",
     "output_type": "stream",
     "text": [
      "nan\n"
     ]
    }
   ],
   "source": [
    "f = \"NLOK.csv\"\n",
    "\n",
    "df = pd.read_csv(f\"data/stocks/{f}\")\n",
    "min_val = min(list(df[\"Close\"]))\n",
    "print(min_val)"
   ]
  },
  {
   "cell_type": "code",
   "execution_count": 103,
   "id": "4144737c",
   "metadata": {},
   "outputs": [
    {
     "data": {
      "text/plain": [
       "278"
      ]
     },
     "execution_count": 103,
     "metadata": {},
     "output_type": "execute_result"
    }
   ],
   "source": [
    "len(df)"
   ]
  },
  {
   "cell_type": "code",
   "execution_count": 99,
   "id": "88c48dff",
   "metadata": {},
   "outputs": [
    {
     "data": {
      "text/html": [
       "<div>\n",
       "<style scoped>\n",
       "    .dataframe tbody tr th:only-of-type {\n",
       "        vertical-align: middle;\n",
       "    }\n",
       "\n",
       "    .dataframe tbody tr th {\n",
       "        vertical-align: top;\n",
       "    }\n",
       "\n",
       "    .dataframe thead th {\n",
       "        text-align: right;\n",
       "    }\n",
       "</style>\n",
       "<table border=\"1\" class=\"dataframe\">\n",
       "  <thead>\n",
       "    <tr style=\"text-align: right;\">\n",
       "      <th></th>\n",
       "      <th>Date</th>\n",
       "      <th>Open</th>\n",
       "      <th>High</th>\n",
       "      <th>Low</th>\n",
       "      <th>Close</th>\n",
       "      <th>Adj Close</th>\n",
       "      <th>Volume</th>\n",
       "    </tr>\n",
       "  </thead>\n",
       "  <tbody>\n",
       "    <tr>\n",
       "      <th>0</th>\n",
       "      <td>2002-02-01</td>\n",
       "      <td>NaN</td>\n",
       "      <td>NaN</td>\n",
       "      <td>NaN</td>\n",
       "      <td>NaN</td>\n",
       "      <td>NaN</td>\n",
       "      <td>NaN</td>\n",
       "    </tr>\n",
       "    <tr>\n",
       "      <th>1</th>\n",
       "      <td>2003-11-20</td>\n",
       "      <td>NaN</td>\n",
       "      <td>NaN</td>\n",
       "      <td>NaN</td>\n",
       "      <td>NaN</td>\n",
       "      <td>NaN</td>\n",
       "      <td>NaN</td>\n",
       "    </tr>\n",
       "    <tr>\n",
       "      <th>2</th>\n",
       "      <td>2004-12-01</td>\n",
       "      <td>NaN</td>\n",
       "      <td>NaN</td>\n",
       "      <td>NaN</td>\n",
       "      <td>NaN</td>\n",
       "      <td>NaN</td>\n",
       "      <td>NaN</td>\n",
       "    </tr>\n",
       "    <tr>\n",
       "      <th>3</th>\n",
       "      <td>2013-08-22</td>\n",
       "      <td>NaN</td>\n",
       "      <td>NaN</td>\n",
       "      <td>NaN</td>\n",
       "      <td>NaN</td>\n",
       "      <td>NaN</td>\n",
       "      <td>NaN</td>\n",
       "    </tr>\n",
       "    <tr>\n",
       "      <th>4</th>\n",
       "      <td>2013-11-21</td>\n",
       "      <td>NaN</td>\n",
       "      <td>NaN</td>\n",
       "      <td>NaN</td>\n",
       "      <td>NaN</td>\n",
       "      <td>NaN</td>\n",
       "      <td>NaN</td>\n",
       "    </tr>\n",
       "  </tbody>\n",
       "</table>\n",
       "</div>"
      ],
      "text/plain": [
       "         Date  Open  High  Low  Close  Adj Close  Volume\n",
       "0  2002-02-01   NaN   NaN  NaN    NaN        NaN     NaN\n",
       "1  2003-11-20   NaN   NaN  NaN    NaN        NaN     NaN\n",
       "2  2004-12-01   NaN   NaN  NaN    NaN        NaN     NaN\n",
       "3  2013-08-22   NaN   NaN  NaN    NaN        NaN     NaN\n",
       "4  2013-11-21   NaN   NaN  NaN    NaN        NaN     NaN"
      ]
     },
     "execution_count": 99,
     "metadata": {},
     "output_type": "execute_result"
    }
   ],
   "source": [
    "df.head()"
   ]
  },
  {
   "cell_type": "code",
   "execution_count": 105,
   "id": "dc56a5d1",
   "metadata": {},
   "outputs": [
    {
     "data": {
      "text/plain": [
       "251"
      ]
     },
     "execution_count": 105,
     "metadata": {},
     "output_type": "execute_result"
    }
   ],
   "source": [
    "df = df.dropna()\n",
    "len(df)"
   ]
  },
  {
   "cell_type": "code",
   "execution_count": 106,
   "id": "27e0c336",
   "metadata": {},
   "outputs": [
    {
     "data": {
      "text/html": [
       "<div>\n",
       "<style scoped>\n",
       "    .dataframe tbody tr th:only-of-type {\n",
       "        vertical-align: middle;\n",
       "    }\n",
       "\n",
       "    .dataframe tbody tr th {\n",
       "        vertical-align: top;\n",
       "    }\n",
       "\n",
       "    .dataframe thead th {\n",
       "        text-align: right;\n",
       "    }\n",
       "</style>\n",
       "<table border=\"1\" class=\"dataframe\">\n",
       "  <thead>\n",
       "    <tr style=\"text-align: right;\">\n",
       "      <th></th>\n",
       "      <th>Date</th>\n",
       "      <th>Open</th>\n",
       "      <th>High</th>\n",
       "      <th>Low</th>\n",
       "      <th>Close</th>\n",
       "      <th>Adj Close</th>\n",
       "      <th>Volume</th>\n",
       "    </tr>\n",
       "  </thead>\n",
       "  <tbody>\n",
       "    <tr>\n",
       "      <th>27</th>\n",
       "      <td>2019-03-08</td>\n",
       "      <td>21.629999</td>\n",
       "      <td>21.959999</td>\n",
       "      <td>21.500000</td>\n",
       "      <td>21.950001</td>\n",
       "      <td>12.452044</td>\n",
       "      <td>4091400.0</td>\n",
       "    </tr>\n",
       "    <tr>\n",
       "      <th>28</th>\n",
       "      <td>2019-03-11</td>\n",
       "      <td>21.980000</td>\n",
       "      <td>22.510000</td>\n",
       "      <td>21.980000</td>\n",
       "      <td>22.379999</td>\n",
       "      <td>12.695979</td>\n",
       "      <td>5087100.0</td>\n",
       "    </tr>\n",
       "    <tr>\n",
       "      <th>29</th>\n",
       "      <td>2019-03-12</td>\n",
       "      <td>22.360001</td>\n",
       "      <td>22.620001</td>\n",
       "      <td>22.320000</td>\n",
       "      <td>22.459999</td>\n",
       "      <td>12.741362</td>\n",
       "      <td>3749800.0</td>\n",
       "    </tr>\n",
       "    <tr>\n",
       "      <th>30</th>\n",
       "      <td>2019-03-13</td>\n",
       "      <td>22.490000</td>\n",
       "      <td>23.080000</td>\n",
       "      <td>22.459999</td>\n",
       "      <td>22.950001</td>\n",
       "      <td>13.019337</td>\n",
       "      <td>5489300.0</td>\n",
       "    </tr>\n",
       "    <tr>\n",
       "      <th>31</th>\n",
       "      <td>2019-03-14</td>\n",
       "      <td>22.540001</td>\n",
       "      <td>23.250000</td>\n",
       "      <td>22.450001</td>\n",
       "      <td>22.930000</td>\n",
       "      <td>13.007990</td>\n",
       "      <td>4309300.0</td>\n",
       "    </tr>\n",
       "  </tbody>\n",
       "</table>\n",
       "</div>"
      ],
      "text/plain": [
       "          Date       Open       High        Low      Close  Adj Close  \\\n",
       "27  2019-03-08  21.629999  21.959999  21.500000  21.950001  12.452044   \n",
       "28  2019-03-11  21.980000  22.510000  21.980000  22.379999  12.695979   \n",
       "29  2019-03-12  22.360001  22.620001  22.320000  22.459999  12.741362   \n",
       "30  2019-03-13  22.490000  23.080000  22.459999  22.950001  13.019337   \n",
       "31  2019-03-14  22.540001  23.250000  22.450001  22.930000  13.007990   \n",
       "\n",
       "       Volume  \n",
       "27  4091400.0  \n",
       "28  5087100.0  \n",
       "29  3749800.0  \n",
       "30  5489300.0  \n",
       "31  4309300.0  "
      ]
     },
     "execution_count": 106,
     "metadata": {},
     "output_type": "execute_result"
    }
   ],
   "source": [
    "df.head()"
   ]
  },
  {
   "cell_type": "code",
   "execution_count": 91,
   "id": "ffda487a",
   "metadata": {},
   "outputs": [
    {
     "data": {
      "text/html": [
       "<div>\n",
       "<style scoped>\n",
       "    .dataframe tbody tr th:only-of-type {\n",
       "        vertical-align: middle;\n",
       "    }\n",
       "\n",
       "    .dataframe tbody tr th {\n",
       "        vertical-align: top;\n",
       "    }\n",
       "\n",
       "    .dataframe thead th {\n",
       "        text-align: right;\n",
       "    }\n",
       "</style>\n",
       "<table border=\"1\" class=\"dataframe\">\n",
       "  <thead>\n",
       "    <tr style=\"text-align: right;\">\n",
       "      <th></th>\n",
       "      <th>Date</th>\n",
       "      <th>Open</th>\n",
       "      <th>High</th>\n",
       "      <th>Low</th>\n",
       "      <th>Close</th>\n",
       "      <th>Adj Close</th>\n",
       "      <th>Volume</th>\n",
       "    </tr>\n",
       "  </thead>\n",
       "  <tbody>\n",
       "    <tr>\n",
       "      <th>0</th>\n",
       "      <td>2002-02-01</td>\n",
       "      <td>NaN</td>\n",
       "      <td>NaN</td>\n",
       "      <td>NaN</td>\n",
       "      <td>NaN</td>\n",
       "      <td>NaN</td>\n",
       "      <td>NaN</td>\n",
       "    </tr>\n",
       "    <tr>\n",
       "      <th>1</th>\n",
       "      <td>2003-11-20</td>\n",
       "      <td>NaN</td>\n",
       "      <td>NaN</td>\n",
       "      <td>NaN</td>\n",
       "      <td>NaN</td>\n",
       "      <td>NaN</td>\n",
       "      <td>NaN</td>\n",
       "    </tr>\n",
       "    <tr>\n",
       "      <th>2</th>\n",
       "      <td>2004-12-01</td>\n",
       "      <td>NaN</td>\n",
       "      <td>NaN</td>\n",
       "      <td>NaN</td>\n",
       "      <td>NaN</td>\n",
       "      <td>NaN</td>\n",
       "      <td>NaN</td>\n",
       "    </tr>\n",
       "    <tr>\n",
       "      <th>3</th>\n",
       "      <td>2013-08-22</td>\n",
       "      <td>NaN</td>\n",
       "      <td>NaN</td>\n",
       "      <td>NaN</td>\n",
       "      <td>NaN</td>\n",
       "      <td>NaN</td>\n",
       "      <td>NaN</td>\n",
       "    </tr>\n",
       "    <tr>\n",
       "      <th>4</th>\n",
       "      <td>2013-11-21</td>\n",
       "      <td>NaN</td>\n",
       "      <td>NaN</td>\n",
       "      <td>NaN</td>\n",
       "      <td>NaN</td>\n",
       "      <td>NaN</td>\n",
       "      <td>NaN</td>\n",
       "    </tr>\n",
       "  </tbody>\n",
       "</table>\n",
       "</div>"
      ],
      "text/plain": [
       "         Date  Open  High  Low  Close  Adj Close  Volume\n",
       "0  2002-02-01   NaN   NaN  NaN    NaN        NaN     NaN\n",
       "1  2003-11-20   NaN   NaN  NaN    NaN        NaN     NaN\n",
       "2  2004-12-01   NaN   NaN  NaN    NaN        NaN     NaN\n",
       "3  2013-08-22   NaN   NaN  NaN    NaN        NaN     NaN\n",
       "4  2013-11-21   NaN   NaN  NaN    NaN        NaN     NaN"
      ]
     },
     "execution_count": 91,
     "metadata": {},
     "output_type": "execute_result"
    }
   ],
   "source": [
    "df.head()"
   ]
  },
  {
   "cell_type": "code",
   "execution_count": 81,
   "id": "0b829f25",
   "metadata": {},
   "outputs": [
    {
     "name": "stdout",
     "output_type": "stream",
     "text": [
      "2020-04-01\n"
     ]
    }
   ],
   "source": [
    "latest_date = max(list(df[\"Date\"]))\n",
    "print(latest_date)"
   ]
  },
  {
   "cell_type": "code",
   "execution_count": 82,
   "id": "a2d94a64",
   "metadata": {},
   "outputs": [
    {
     "name": "stdout",
     "output_type": "stream",
     "text": [
      "            Date      Open      High       Low     Close     Adj Close  Volume\n",
      "1288  1987-12-09  0.500000  0.500000  0.481481  0.481481  6.995918e+18   17500\n",
      "1311  1988-01-13  0.481481  0.481481  0.481481  0.481481  6.995918e+18    4000\n",
      "1312  1988-01-14  0.481481  0.481481  0.481481  0.481481  6.995918e+18       0\n",
      "            Date       Open       High    Low  Close  Adj Close   Volume\n",
      "9430  2020-04-01  21.549999  21.969999  19.65  19.74      19.74  1421000\n"
     ]
    }
   ],
   "source": [
    "start = df.loc[df[\"Close\"] == min_val]\n",
    "end = df.loc[df[\"Date\"] == latest_date]\n",
    "\n",
    "print(start)\n",
    "print(end)"
   ]
  },
  {
   "cell_type": "code",
   "execution_count": 83,
   "id": "b96e86c6",
   "metadata": {},
   "outputs": [
    {
     "name": "stdout",
     "output_type": "stream",
     "text": [
      "0.4814814925193786\n",
      "19.739999771118164\n"
     ]
    }
   ],
   "source": [
    "start_val = start.iloc[-1][\"Close\"].item()\n",
    "end_val = end.iloc[-1][\"Close\"].item()\n",
    "\n",
    "print(start_val)\n",
    "print(end_val)"
   ]
  },
  {
   "cell_type": "code",
   "execution_count": 84,
   "id": "79691da0",
   "metadata": {},
   "outputs": [],
   "source": [
    "multiplier = end_val / start_val"
   ]
  },
  {
   "cell_type": "code",
   "execution_count": 85,
   "id": "dd34fcc0",
   "metadata": {},
   "outputs": [
    {
     "name": "stdout",
     "output_type": "stream",
     "text": [
      "40.99846012320748\n"
     ]
    }
   ],
   "source": [
    "print(multiplier)"
   ]
  },
  {
   "cell_type": "code",
   "execution_count": 86,
   "id": "b527d4a5",
   "metadata": {},
   "outputs": [
    {
     "name": "stdout",
     "output_type": "stream",
     "text": [
      "AAN.csv: 0.4814814925193786, 19.739999771118164, 40.99846012320748\n"
     ]
    }
   ],
   "source": [
    "print(f\"{f}: {start_val}, {end_val}, {multiplier}\")"
   ]
  },
  {
   "cell_type": "code",
   "execution_count": 89,
   "id": "ede644d4",
   "metadata": {},
   "outputs": [
    {
     "name": "stdout",
     "output_type": "stream",
     "text": [
      "1988-01-14 2020-04-01\n"
     ]
    }
   ],
   "source": [
    "\n",
    "# Then get start and end dates.\n",
    "start_date = start.iloc[-1][\"Date\"]\n",
    "end_date = end.iloc[-1][\"Date\"]\n",
    "\n",
    "print(start_date, end_date)"
   ]
  },
  {
   "cell_type": "code",
   "execution_count": null,
   "id": "3f9fe34c",
   "metadata": {},
   "outputs": [],
   "source": []
  }
 ],
 "metadata": {
  "kernelspec": {
   "display_name": "Python 3 (ipykernel)",
   "language": "python",
   "name": "python3"
  },
  "language_info": {
   "codemirror_mode": {
    "name": "ipython",
    "version": 3
   },
   "file_extension": ".py",
   "mimetype": "text/x-python",
   "name": "python",
   "nbconvert_exporter": "python",
   "pygments_lexer": "ipython3",
   "version": "3.9.17"
  }
 },
 "nbformat": 4,
 "nbformat_minor": 5
}
